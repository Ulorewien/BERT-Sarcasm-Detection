{
 "cells": [
  {
   "cell_type": "code",
   "execution_count": 1,
   "metadata": {},
   "outputs": [],
   "source": [
    "import numpy as np\n",
    "import pandas as pd\n",
    "import transformers\n",
    "import torch\n",
    "from torch import nn\n",
    "from torch.utils.data import DataLoader\n",
    "from datasets import TwitterDataset\n",
    "from model import SarcasmDetectionModel\n",
    "from util import train_model, plot_loss, plot_accuracies, get_failed_examples, save_failed_examples\n",
    "\n",
    "import warnings\n",
    "warnings.filterwarnings(\"ignore\")"
   ]
  },
  {
   "cell_type": "code",
   "execution_count": 2,
   "metadata": {},
   "outputs": [],
   "source": [
    "# Global Variables\n",
    "device = \"cuda\" if torch.cuda.is_available() else \"cpu\"\n",
    "twitter_train_dir = \"twitter_train.csv\"\n",
    "twitter_test_dir = \"twitter_test.csv\"\n",
    "model_save_path = \"model.pth\"\n",
    "loss_save_path = \"losses.png\"\n",
    "acc_save_path = \"accuracies.png\"\n",
    "failed_examples_save_path = \"failed_examples.json\"\n",
    "seed = 25\n",
    "\n",
    "# Hyperparameters\n",
    "len_dataset = 6000\n",
    "batch_size = 64\n",
    "lr = 3e-6\n",
    "n_epoch = 5"
   ]
  },
  {
   "cell_type": "code",
   "execution_count": 3,
   "metadata": {},
   "outputs": [
    {
     "name": "stdout",
     "output_type": "stream",
     "text": [
      "Loading data...\n",
      "Instances of each sample in the entire dataset: class\n",
      "sarcasm    3000\n",
      "regular    3000\n",
      "Name: count, dtype: int64\n"
     ]
    }
   ],
   "source": [
    "# Load the data and shuffle it\n",
    "print(\"Loading data...\")\n",
    "\n",
    "df = pd.read_csv(twitter_train_dir)\n",
    "df = df[(df[\"class\"] == \"sarcasm\") | (df[\"class\"] == \"regular\")]\n",
    "# Sample 3000 rows from each class for the training dataset\n",
    "train_sarcasm_sample = df[df[\"class\"] == \"sarcasm\"].sample(n=len_dataset//2, random_state=seed)\n",
    "train_regular_sample = df[df[\"class\"] == \"regular\"].sample(n=len_dataset//2, random_state=seed)\n",
    "# Combine the sampled training data\n",
    "twitter_train_dataset = pd.concat([train_sarcasm_sample, train_regular_sample])\n",
    "\n",
    "df = pd.read_csv(twitter_test_dir)\n",
    "twitter_test_dataset = df[(df[\"class\"] == \"sarcasm\") | (df[\"class\"] == \"regular\")]\n",
    "\n",
    "print(f\"Instances of each sample in the entire dataset: {twitter_train_dataset['class'].value_counts()}\")"
   ]
  },
  {
   "cell_type": "code",
   "execution_count": 4,
   "metadata": {},
   "outputs": [],
   "source": [
    "# Load the pre-trained BERT model\n",
    "model_class, tokenizer_class, pretrained_weights = (transformers.BertModel, transformers.BertTokenizer, \"bert-base-uncased\")\n",
    "# model_class, tokenizer_class, pretrained_weights = (transformers.DistilBertModel, transformers.DistilBertTokenizer, \"distilbert-base-uncased\")\n",
    "\n",
    "tokenizer = tokenizer_class.from_pretrained(pretrained_weights)\n",
    "bert_model = model_class.from_pretrained(pretrained_weights)"
   ]
  },
  {
   "cell_type": "code",
   "execution_count": 5,
   "metadata": {},
   "outputs": [
    {
     "name": "stdout",
     "output_type": "stream",
     "text": [
      "Shape of the padded train dataset: (6000, 79)\n",
      "Shape of the padded test dataset: (3964, 100)\n"
     ]
    }
   ],
   "source": [
    "# Replace class labels \"sarcasm\" with 1 and \"regular\" with 0\n",
    "twitter_train_dataset[\"class\"] = twitter_train_dataset[\"class\"].replace({\"sarcasm\": 1, \"regular\": 0})\n",
    "twitter_test_dataset[\"class\"] = twitter_test_dataset[\"class\"].replace({\"sarcasm\": 1, \"regular\": 0})\n",
    "\n",
    "# Tokenize the dataset\n",
    "tokenized_train_dataset = twitter_train_dataset[\"tweets\"].apply((lambda x: tokenizer.encode(x, add_special_tokens=True)))\n",
    "tokenized_test_dataset = twitter_test_dataset[\"tweets\"].apply((lambda x: tokenizer.encode(x, add_special_tokens=True)))\n",
    "\n",
    "# Padding to match the shapes of all the input data\n",
    "max_len = 0\n",
    "for i in tokenized_train_dataset.values:\n",
    "    if len(i) > max_len:\n",
    "        max_len = len(i)\n",
    "\n",
    "padded_dataset_train = np.array([i + [0]*(max_len-len(i)) for i in tokenized_train_dataset.values])\n",
    "\n",
    "max_len = 0\n",
    "for i in tokenized_test_dataset.values:\n",
    "    if len(i) > max_len:\n",
    "        max_len = len(i)\n",
    "\n",
    "padded_dataset_test = np.array([i + [0]*(max_len-len(i)) for i in tokenized_test_dataset.values])\n",
    "\n",
    "print(f\"Shape of the padded train dataset: {np.array(padded_dataset_train).shape}\")\n",
    "print(f\"Shape of the padded test dataset: {np.array(padded_dataset_test).shape}\")"
   ]
  },
  {
   "cell_type": "code",
   "execution_count": 6,
   "metadata": {},
   "outputs": [
    {
     "name": "stdout",
     "output_type": "stream",
     "text": [
      "Shape of the masked train dataset: (6000, 79)\n",
      "Shape of the masked test dataset: (3964, 100)\n"
     ]
    }
   ],
   "source": [
    "# Add a mask so that the model doesn't consider padded tokens\n",
    "attention_mask_train = np.where(padded_dataset_train != 0, 1, 0)\n",
    "attention_mask_test = np.where(padded_dataset_test != 0, 1, 0)\n",
    "print(f\"Shape of the masked train dataset: {attention_mask_train.shape}\")\n",
    "print(f\"Shape of the masked test dataset: {attention_mask_test.shape}\")"
   ]
  },
  {
   "cell_type": "code",
   "execution_count": 7,
   "metadata": {},
   "outputs": [
    {
     "name": "stdout",
     "output_type": "stream",
     "text": [
      "Instances of each sample in the train set: class\n",
      "1    3000\n",
      "0    3000\n",
      "Name: count, dtype: int64\n",
      "Instances of each sample in the test set: class\n",
      "1    2105\n",
      "0    1859\n",
      "Name: count, dtype: int64\n"
     ]
    }
   ],
   "source": [
    "# Create dataloaders\n",
    "train_features = torch.tensor(padded_dataset_train, device=device).long()\n",
    "train_mask = torch.tensor(attention_mask_train, device=device).long()\n",
    "train_labels = torch.tensor(twitter_train_dataset[\"class\"].values, device=device).long()\n",
    "train_dataset = TwitterDataset(train_features, train_mask, train_labels)\n",
    "train_loader = DataLoader(train_dataset, batch_size=batch_size, shuffle=True)\n",
    "\n",
    "test_features = torch.tensor(padded_dataset_test, device=device).long()\n",
    "test_mask = torch.tensor(attention_mask_test, device=device).long()\n",
    "test_labels = torch.tensor(twitter_test_dataset[\"class\"].values, device=device).long()\n",
    "test_dataset = TwitterDataset(test_features, test_mask, test_labels)\n",
    "test_loader = DataLoader(test_dataset, batch_size=batch_size)\n",
    "\n",
    "print(f\"Instances of each sample in the train set: {twitter_train_dataset['class'].value_counts()}\")\n",
    "print(f\"Instances of each sample in the test set: {twitter_test_dataset['class'].value_counts()}\")"
   ]
  },
  {
   "cell_type": "code",
   "execution_count": 8,
   "metadata": {},
   "outputs": [],
   "source": [
    "# Define the model, optimizer and the loss function\n",
    "model = SarcasmDetectionModel(bert_model).to(device)\n",
    "optimizer = torch.optim.AdamW(model.parameters(), lr=lr)\n",
    "loss_function = nn.CrossEntropyLoss()"
   ]
  },
  {
   "cell_type": "code",
   "execution_count": 9,
   "metadata": {},
   "outputs": [],
   "source": [
    "# Create arrays to document progress\n",
    "train_losses = []\n",
    "train_accuracies = []\n",
    "test_losses = []\n",
    "test_accuracies = []"
   ]
  },
  {
   "cell_type": "code",
   "execution_count": 10,
   "metadata": {},
   "outputs": [
    {
     "name": "stdout",
     "output_type": "stream",
     "text": [
      "Epoch 0 -> Train loss: 0.3614 Train acc: 82.72% Test acc: 99.22%\n",
      "Epoch 1 -> Train loss: 0.0258 Train acc: 99.72% Test acc: 99.97%\n",
      "Epoch 2 -> Train loss: 0.0068 Train acc: 99.97% Test acc: 99.97%\n",
      "Epoch 3 -> Train loss: 0.0032 Train acc: 100.00% Test acc: 99.97%\n",
      "Epoch 4 -> Train loss: 0.0022 Train acc: 100.00% Test acc: 99.97%\n"
     ]
    }
   ],
   "source": [
    "# Train and Evaluate the model\n",
    "for epoch in range(n_epoch):\n",
    "    train_loss, train_acc, test_loss, test_acc = train_model(model, optimizer, loss_function, train_loader, len(train_labels), test_loader, len(test_labels), epoch)\n",
    "    train_losses.append(train_loss)\n",
    "    train_accuracies.append(train_acc)\n",
    "    test_losses.append(test_loss)\n",
    "    test_accuracies.append(test_acc)"
   ]
  },
  {
   "cell_type": "code",
   "execution_count": 11,
   "metadata": {},
   "outputs": [],
   "source": [
    "# Save the model\n",
    "torch.save(model.state_dict(), model_save_path)"
   ]
  },
  {
   "cell_type": "code",
   "execution_count": 12,
   "metadata": {},
   "outputs": [
    {
     "data": {
      "image/png": "[encoded data removed]",
      "text/plain": [
       "<Figure size 720x432 with 1 Axes>"
      ]
     },
     "metadata": {
      "needs_background": "light"
     },
     "output_type": "display_data"
    },
    {
     "data": {
      "image/png": "[encoded data removed]",
      "text/plain": [
       "<Figure size 720x432 with 1 Axes>"
      ]
     },
     "metadata": {
      "needs_background": "light"
     },
     "output_type": "display_data"
    }
   ],
   "source": [
    "# Plot the results\n",
    "plot_loss(train_losses, \"Loss Plot\", \"Train Loss\", \"Loss\", loss_save_path)\n",
    "plot_accuracies(train_accuracies, test_accuracies, \"Accuracy Plot\", \"Train Acc\", \"Test Acc\", \"Accuracy\", acc_save_path)"
   ]
  },
  {
   "cell_type": "code",
   "execution_count": 13,
   "metadata": {},
   "outputs": [
    {
     "name": "stderr",
     "output_type": "stream",
     "text": [
      "2024-06-04 06:17:22.480999: I tensorflow/core/util/port.cc:110] oneDNN custom operations are on. You may see slightly different numerical results due to floating-point round-off errors from different computation orders. To turn them off, set the environment variable `TF_ENABLE_ONEDNN_OPTS=0`.\n",
      "2024-06-04 06:17:22.531585: I tensorflow/core/platform/cpu_feature_guard.cc:182] This TensorFlow binary is optimized to use available CPU instructions in performance-critical operations.\n",
      "To enable the following instructions: AVX2 AVX512F AVX512_VNNI FMA, in other operations, rebuild TensorFlow with the appropriate compiler flags.\n"
     ]
    }
   ],
   "source": [
    "# Get failed examples\n",
    "failed_examples = get_failed_examples(model, test_loader, tokenizer)\n",
    "save_failed_examples(failed_examples, failed_examples_save_path)"
   ]
  },
  {
   "cell_type": "code",
   "execution_count": null,
   "metadata": {},
   "outputs": [],
   "source": []
  }
 ],
 "metadata": {
  "kernelspec": {
   "display_name": "Python 3 (ipykernel)",
   "language": "python",
   "name": "python3"
  },
  "language_info": {
   "codemirror_mode": {
    "name": "ipython",
    "version": 3
   },
   "file_extension": ".py",
   "mimetype": "text/x-python",
   "name": "python",
   "nbconvert_exporter": "python",
   "pygments_lexer": "ipython3",
   "version": "3.9.5"
  }
 },
 "nbformat": 4,
 "nbformat_minor": 2
}
