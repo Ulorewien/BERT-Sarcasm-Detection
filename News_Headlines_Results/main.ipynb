{
 "cells": [
  {
   "cell_type": "code",
   "execution_count": 1,
   "metadata": {},
   "outputs": [],
   "source": [
    "import numpy as np\n",
    "import pandas as pd\n",
    "import transformers\n",
    "import torch\n",
    "from torch import nn\n",
    "from torch.utils.data import DataLoader\n",
    "from datasets import NewsHeadlinesDataset\n",
    "from model import SarcasmDetectionModel\n",
    "from util import train_model, plot_loss, plot_accuracies, get_failed_examples, save_failed_examples\n",
    "\n",
    "import warnings\n",
    "warnings.filterwarnings(\"ignore\")"
   ]
  },
  {
   "cell_type": "code",
   "execution_count": 14,
   "metadata": {},
   "outputs": [],
   "source": [
    "# Global Variables\n",
    "device = \"cuda\" if torch.cuda.is_available() else \"cpu\"\n",
    "news_dataset_dir = \"Sarcasm_Headlines_Dataset_v2.json\"\n",
    "split_ratio = 0.8\n",
    "model_save_path = \"model.pth\"\n",
    "loss_save_path = \"losses.png\"\n",
    "acc_save_path = \"accuracies.png\"\n",
    "failed_examples_save_path = \"failed_examples.json\"\n",
    "\n",
    "# Hyperparameters\n",
    "len_dataset = 6000\n",
    "batch_size = 64\n",
    "lr = 3e-6\n",
    "n_epoch = 20"
   ]
  },
  {
   "cell_type": "code",
   "execution_count": 3,
   "metadata": {},
   "outputs": [
    {
     "name": "stdout",
     "output_type": "stream",
     "text": [
      "Loading data...\n",
      "Instances of each sample in the entire dataset: is_sarcastic\n",
      "0    3096\n",
      "1    2904\n",
      "Name: count, dtype: int64\n"
     ]
    }
   ],
   "source": [
    "# Load the data and shuffle it\n",
    "print(\"Loading data...\")\n",
    "news_dataset = pd.read_json(news_dataset_dir, lines=True)\n",
    "news_dataset = news_dataset[:len_dataset]\n",
    "news_dataset = news_dataset.sample(frac=1).reset_index(drop=True)\n",
    "print(f\"Instances of each sample in the entire dataset: {news_dataset['is_sarcastic'].value_counts()}\")"
   ]
  },
  {
   "cell_type": "code",
   "execution_count": 4,
   "metadata": {},
   "outputs": [],
   "source": [
    "# Load the pre-trained BERT model\n",
    "model_class, tokenizer_class, pretrained_weights = (transformers.BertModel, transformers.BertTokenizer, \"bert-base-uncased\")\n",
    "# model_class, tokenizer_class, pretrained_weights = (transformers.DistilBertModel, transformers.DistilBertTokenizer, \"distilbert-base-uncased\")\n",
    "\n",
    "tokenizer = tokenizer_class.from_pretrained(pretrained_weights)\n",
    "bert_model = model_class.from_pretrained(pretrained_weights)"
   ]
  },
  {
   "cell_type": "code",
   "execution_count": 5,
   "metadata": {},
   "outputs": [
    {
     "name": "stdout",
     "output_type": "stream",
     "text": [
      "Shape of the padded dataset: (6000, 56)\n"
     ]
    }
   ],
   "source": [
    "# Tokenize the dataset\n",
    "tokenized_dataset_news = news_dataset[\"headline\"].apply((lambda x: tokenizer.encode(x, add_special_tokens=True)))\n",
    "\n",
    "# Padding to match the shapes of all the input data\n",
    "max_len = 0\n",
    "for i in tokenized_dataset_news.values:\n",
    "    if len(i) > max_len:\n",
    "        max_len = len(i)\n",
    "\n",
    "padded_dataset_news = np.array([i + [0]*(max_len-len(i)) for i in tokenized_dataset_news.values])\n",
    "print(f\"Shape of the padded dataset: {np.array(padded_dataset_news).shape}\")"
   ]
  },
  {
   "cell_type": "code",
   "execution_count": 6,
   "metadata": {},
   "outputs": [
    {
     "name": "stdout",
     "output_type": "stream",
     "text": [
      "Shape of the masked dataset: (6000, 56)\n"
     ]
    }
   ],
   "source": [
    "# Add a mask so that the model doesn't consider padded tokens\n",
    "attention_mask_news = np.where(padded_dataset_news != 0, 1, 0)\n",
    "print(f\"Shape of the masked dataset: {attention_mask_news.shape}\")"
   ]
  },
  {
   "cell_type": "code",
   "execution_count": 7,
   "metadata": {},
   "outputs": [
    {
     "name": "stdout",
     "output_type": "stream",
     "text": [
      "Splitting the data -> Train (4800) & Test (1200)\n",
      "Instances of each sample in the train set: is_sarcastic\n",
      "0    2500\n",
      "1    2300\n",
      "Name: count, dtype: int64\n",
      "Instances of each sample in the test set: is_sarcastic\n",
      "1    604\n",
      "0    596\n",
      "Name: count, dtype: int64\n"
     ]
    }
   ],
   "source": [
    "# Split the data in training and testing sets and create dataloaders\n",
    "split_val = int(split_ratio*len_dataset)\n",
    "print(f\"Splitting the data -> Train ({split_val}) & Test ({len_dataset-split_val})\")\n",
    "\n",
    "train_features_news = torch.tensor(padded_dataset_news[:split_val], device=device).long()\n",
    "train_mask_news = torch.tensor(attention_mask_news[:split_val], device=device).long()\n",
    "train_labels_news = torch.tensor(news_dataset[\"is_sarcastic\"].values[:split_val], device=device).long()\n",
    "train_articles_news = news_dataset[\"article_link\"].values[:split_val]\n",
    "train_dataset_news = NewsHeadlinesDataset(train_features_news, train_mask_news, train_labels_news, train_articles_news)\n",
    "train_loader_news = DataLoader(train_dataset_news, batch_size=batch_size, shuffle=True)\n",
    "\n",
    "test_features_news = torch.tensor(padded_dataset_news[split_val:], device=device).long()\n",
    "test_mask_news = torch.tensor(attention_mask_news[split_val:], device=device).long()\n",
    "test_labels_news = torch.tensor(news_dataset[\"is_sarcastic\"].values[split_val:], device=device).long()\n",
    "test_articles_news = news_dataset[\"article_link\"].values[split_val:]\n",
    "test_dataset_news = NewsHeadlinesDataset(test_features_news, test_mask_news, test_labels_news, test_articles_news)\n",
    "test_loader_news = DataLoader(test_dataset_news, batch_size=batch_size)\n",
    "\n",
    "print(f\"Instances of each sample in the train set: {news_dataset[:split_val]['is_sarcastic'].value_counts()}\")\n",
    "print(f\"Instances of each sample in the test set: {news_dataset[split_val:]['is_sarcastic'].value_counts()}\")"
   ]
  },
  {
   "cell_type": "code",
   "execution_count": 8,
   "metadata": {},
   "outputs": [],
   "source": [
    "# Define the model, optimizer and the loss function\n",
    "model = SarcasmDetectionModel(bert_model).to(device)\n",
    "optimizer = torch.optim.AdamW(model.parameters(), lr=lr)\n",
    "loss_function = nn.CrossEntropyLoss()"
   ]
  },
  {
   "cell_type": "code",
   "execution_count": 9,
   "metadata": {},
   "outputs": [],
   "source": [
    "# Create arrays to document progress\n",
    "train_losses = []\n",
    "train_accuracies = []\n",
    "test_losses = []\n",
    "test_accuracies = []"
   ]
  },
  {
   "cell_type": "code",
   "execution_count": 10,
   "metadata": {},
   "outputs": [
    {
     "name": "stdout",
     "output_type": "stream",
     "text": [
      "Epoch 0 -> Train loss: 0.6503 Train acc: 60.38% Test acc: 79.75%\n",
      "Epoch 1 -> Train loss: 0.4523 Train acc: 79.83% Test acc: 81.83%\n",
      "Epoch 2 -> Train loss: 0.3538 Train acc: 85.54% Test acc: 84.00%\n",
      "Epoch 3 -> Train loss: 0.2908 Train acc: 88.40% Test acc: 84.42%\n",
      "Epoch 4 -> Train loss: 0.2495 Train acc: 90.52% Test acc: 85.50%\n",
      "Epoch 5 -> Train loss: 0.2065 Train acc: 92.15% Test acc: 87.00%\n",
      "Epoch 6 -> Train loss: 0.1817 Train acc: 93.19% Test acc: 87.50%\n",
      "Epoch 7 -> Train loss: 0.1462 Train acc: 94.81% Test acc: 87.50%\n",
      "Epoch 8 -> Train loss: 0.1308 Train acc: 95.48% Test acc: 87.33%\n",
      "Epoch 9 -> Train loss: 0.1011 Train acc: 96.54% Test acc: 88.17%\n",
      "Epoch 10 -> Train loss: 0.0868 Train acc: 97.25% Test acc: 87.08%\n",
      "Epoch 11 -> Train loss: 0.0783 Train acc: 97.58% Test acc: 88.25%\n",
      "Epoch 12 -> Train loss: 0.0607 Train acc: 98.23% Test acc: 87.83%\n",
      "Epoch 13 -> Train loss: 0.0532 Train acc: 98.25% Test acc: 87.83%\n",
      "Epoch 14 -> Train loss: 0.0445 Train acc: 98.81% Test acc: 87.92%\n",
      "Epoch 15 -> Train loss: 0.0392 Train acc: 98.92% Test acc: 87.83%\n",
      "Epoch 16 -> Train loss: 0.0317 Train acc: 99.27% Test acc: 87.92%\n",
      "Epoch 17 -> Train loss: 0.0310 Train acc: 99.08% Test acc: 88.08%\n",
      "Epoch 18 -> Train loss: 0.0264 Train acc: 99.33% Test acc: 87.58%\n",
      "Epoch 19 -> Train loss: 0.0262 Train acc: 99.38% Test acc: 89.08%\n"
     ]
    }
   ],
   "source": [
    "# Train and Evaluate the model\n",
    "for epoch in range(n_epoch):\n",
    "    train_loss, train_acc, test_loss, test_acc = train_model(model, optimizer, loss_function, train_loader_news, len(train_labels_news), test_loader_news, len(test_labels_news), epoch)\n",
    "    train_losses.append(train_loss)\n",
    "    train_accuracies.append(train_acc)\n",
    "    test_losses.append(test_loss)\n",
    "    test_accuracies.append(test_acc)"
   ]
  },
  {
   "cell_type": "code",
   "execution_count": 11,
   "metadata": {},
   "outputs": [],
   "source": [
    "# Save the model\n",
    "torch.save(model.state_dict(), model_save_path)"
   ]
  },
  {
   "cell_type": "code",
   "execution_count": 12,
   "metadata": {},
   "outputs": [
    {
     "data": {
      "image/png": "[encoded data removed]",
      "text/plain": [
       "<Figure size 720x432 with 1 Axes>"
      ]
     },
     "metadata": {
      "needs_background": "light"
     },
     "output_type": "display_data"
    },
    {
     "data": {
      "image/png": "[encoded data removed]",
      "text/plain": [
       "<Figure size 720x432 with 1 Axes>"
      ]
     },
     "metadata": {
      "needs_background": "light"
     },
     "output_type": "display_data"
    }
   ],
   "source": [
    "# Plot the results\n",
    "plot_loss(train_losses, \"Loss Plot\", \"Train Loss\", \"Loss\", loss_save_path)\n",
    "plot_accuracies(train_accuracies, test_accuracies, \"Accuracy Plot\", \"Train Acc\", \"Test Acc\", \"Accuracy\", acc_save_path)"
   ]
  },
  {
   "cell_type": "code",
   "execution_count": 15,
   "metadata": {},
   "outputs": [],
   "source": [
    "# Get failed examples\n",
    "failed_examples = get_failed_examples(model, test_loader_news, tokenizer)\n",
    "save_failed_examples(failed_examples, failed_examples_save_path)"
   ]
  },
  {
   "cell_type": "code",
   "execution_count": null,
   "metadata": {},
   "outputs": [],
   "source": []
  }
 ],
 "metadata": {
  "kernelspec": {
   "display_name": "Python 3 (ipykernel)",
   "language": "python",
   "name": "python3"
  },
  "language_info": {
   "codemirror_mode": {
    "name": "ipython",
    "version": 3
   },
   "file_extension": ".py",
   "mimetype": "text/x-python",
   "name": "python",
   "nbconvert_exporter": "python",
   "pygments_lexer": "ipython3",
   "version": "3.9.5"
  }
 },
 "nbformat": 4,
 "nbformat_minor": 2
}
