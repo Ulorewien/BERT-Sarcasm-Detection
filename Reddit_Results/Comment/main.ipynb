{
 "cells": [
  {
   "cell_type": "code",
   "execution_count": 1,
   "metadata": {},
   "outputs": [],
   "source": [
    "import numpy as np\n",
    "import pandas as pd\n",
    "import transformers\n",
    "import torch\n",
    "from torch import nn\n",
    "from torch.utils.data import DataLoader\n",
    "from datasets import RedditDataset\n",
    "from model import SarcasmDetectionModel\n",
    "from util import train_model, plot_loss, plot_accuracies, get_failed_examples, save_failed_examples\n",
    "\n",
    "import warnings\n",
    "warnings.filterwarnings(\"ignore\")"
   ]
  },
  {
   "cell_type": "code",
   "execution_count": 2,
   "metadata": {},
   "outputs": [],
   "source": [
    "# Global Variables\n",
    "device = \"cuda\" if torch.cuda.is_available() else \"cpu\"\n",
    "reddit_dataset_dir = \"train-balanced-sarcasm.csv\"\n",
    "split_ratio = 0.8\n",
    "model_save_path = \"model.pth\"\n",
    "loss_save_path = \"losses.png\"\n",
    "acc_save_path = \"accuracies.png\"\n",
    "failed_examples_save_path = \"failed_examples.json\"\n",
    "seed = 25\n",
    "\n",
    "# Hyperparameters\n",
    "len_dataset = 6000\n",
    "batch_size = 32\n",
    "lr = 1e-5\n",
    "n_epoch = 20"
   ]
  },
  {
   "cell_type": "code",
   "execution_count": 3,
   "metadata": {},
   "outputs": [
    {
     "name": "stdout",
     "output_type": "stream",
     "text": [
      "Loading data...\n",
      "Instances of each sample in the entire dataset: label\n",
      "1    3000\n",
      "0    3000\n",
      "Name: count, dtype: int64\n"
     ]
    }
   ],
   "source": [
    "# Load the data and shuffle it\n",
    "print(\"Loading data...\")\n",
    "df = pd.read_csv(reddit_dataset_dir)\n",
    "# Sample 3000 rows from each class for the training dataset\n",
    "sarcasm_sample = df[df[\"label\"] == 1].sample(n=len_dataset//2, random_state=seed)\n",
    "regular_sample = df[df[\"label\"] == 0].sample(n=len_dataset//2, random_state=seed)\n",
    "# Combine the sampled training data\n",
    "reddit_dataset = pd.concat([sarcasm_sample, regular_sample])\n",
    "print(f\"Instances of each sample in the entire dataset: {reddit_dataset['label'].value_counts()}\")"
   ]
  },
  {
   "cell_type": "code",
   "execution_count": 4,
   "metadata": {},
   "outputs": [],
   "source": [
    "reddit_dataset[\"context_comment\"] = reddit_dataset.apply(lambda row: f\"Context: {row['parent_comment']}; Comment: {row['comment']}\", axis=1)\n",
    "reddit_dataset[\"subreddit_comment\"] = reddit_dataset.apply(lambda row: f\"Subreddit: {row['subreddit']}; Comment: {row['comment']}\", axis=1)\n",
    "reddit_dataset[\"context_subreddit_comment\"] = reddit_dataset.apply(lambda row: f\"Context: {row['parent_comment']}; Subreddit: {row['subreddit']}; Comment: {row['comment']}\", axis=1)\n",
    "reddit_dataset = reddit_dataset.sample(frac=1, random_state=seed).reset_index(drop=True)"
   ]
  },
  {
   "cell_type": "code",
   "execution_count": 5,
   "metadata": {},
   "outputs": [],
   "source": [
    "# Load the pre-trained BERT model\n",
    "model_class, tokenizer_class, pretrained_weights = (transformers.BertModel, transformers.BertTokenizer, \"bert-base-uncased\")\n",
    "# model_class, tokenizer_class, pretrained_weights = (transformers.DistilBertModel, transformers.DistilBertTokenizer, \"distilbert-base-uncased\")\n",
    "\n",
    "tokenizer = tokenizer_class.from_pretrained(pretrained_weights)\n",
    "bert_model = model_class.from_pretrained(pretrained_weights)"
   ]
  },
  {
   "cell_type": "markdown",
   "metadata": {},
   "source": [
    "# Part 1 - Comment only"
   ]
  },
  {
   "cell_type": "code",
   "execution_count": 6,
   "metadata": {},
   "outputs": [
    {
     "name": "stdout",
     "output_type": "stream",
     "text": [
      "Shape of the padded dataset: (6000, 191)\n"
     ]
    }
   ],
   "source": [
    "# Tokenize the dataset\n",
    "tokenized_dataset_reddit = reddit_dataset[\"comment\"].apply((lambda x: tokenizer.encode(x, add_special_tokens=True)))\n",
    "\n",
    "# Padding to match the shapes of all the input data\n",
    "max_len = 0\n",
    "for i in tokenized_dataset_reddit.values:\n",
    "    if len(i) > max_len:\n",
    "        max_len = len(i)\n",
    "\n",
    "padded_dataset_reddit = np.array([i + [0]*(max_len-len(i)) for i in tokenized_dataset_reddit.values])\n",
    "print(f\"Shape of the padded dataset: {np.array(padded_dataset_reddit).shape}\")"
   ]
  },
  {
   "cell_type": "code",
   "execution_count": 7,
   "metadata": {},
   "outputs": [
    {
     "name": "stdout",
     "output_type": "stream",
     "text": [
      "Shape of the masked dataset: (6000, 191)\n"
     ]
    }
   ],
   "source": [
    "# Add a mask so that the model doesn't consider padded tokens\n",
    "attention_mask_reddit = np.where(padded_dataset_reddit != 0, 1, 0)\n",
    "print(f\"Shape of the masked dataset: {attention_mask_reddit.shape}\")"
   ]
  },
  {
   "cell_type": "code",
   "execution_count": 8,
   "metadata": {},
   "outputs": [
    {
     "name": "stdout",
     "output_type": "stream",
     "text": [
      "Splitting the data -> Train (4800) & Test (1200)\n",
      "Instances of each sample in the train set: label\n",
      "1    2413\n",
      "0    2387\n",
      "Name: count, dtype: int64\n",
      "Instances of each sample in the test set: label\n",
      "0    613\n",
      "1    587\n",
      "Name: count, dtype: int64\n"
     ]
    }
   ],
   "source": [
    "# Split the data in training and testing sets and create dataloaders\n",
    "split_val = int(split_ratio*len_dataset)\n",
    "print(f\"Splitting the data -> Train ({split_val}) & Test ({len_dataset-split_val})\")\n",
    "\n",
    "train_features_reddit = torch.tensor(padded_dataset_reddit[:split_val], device=device).long()\n",
    "train_mask_reddit = torch.tensor(attention_mask_reddit[:split_val], device=device).long()\n",
    "train_labels_reddit = torch.tensor(reddit_dataset[\"label\"].values[:split_val], device=device).long()\n",
    "train_dataset_reddit = RedditDataset(train_features_reddit, train_mask_reddit, train_labels_reddit)\n",
    "train_loader_reddit = DataLoader(train_dataset_reddit, batch_size=batch_size, shuffle=True)\n",
    "\n",
    "test_features_reddit = torch.tensor(padded_dataset_reddit[split_val:], device=device).long()\n",
    "test_mask_reddit = torch.tensor(attention_mask_reddit[split_val:], device=device).long()\n",
    "test_labels_reddit = torch.tensor(reddit_dataset[\"label\"].values[split_val:], device=device).long()\n",
    "test_dataset_reddit = RedditDataset(test_features_reddit, test_mask_reddit, test_labels_reddit)\n",
    "test_loader_reddit = DataLoader(test_dataset_reddit, batch_size=batch_size)\n",
    "\n",
    "print(f\"Instances of each sample in the train set: {reddit_dataset[:split_val]['label'].value_counts()}\")\n",
    "print(f\"Instances of each sample in the test set: {reddit_dataset[split_val:]['label'].value_counts()}\")"
   ]
  },
  {
   "cell_type": "code",
   "execution_count": 9,
   "metadata": {},
   "outputs": [],
   "source": [
    "# Define the model, optimizer and the loss function\n",
    "model = SarcasmDetectionModel(bert_model).to(device)\n",
    "optimizer = torch.optim.AdamW(model.parameters(), lr=lr)\n",
    "loss_function = nn.CrossEntropyLoss()"
   ]
  },
  {
   "cell_type": "code",
   "execution_count": 10,
   "metadata": {},
   "outputs": [],
   "source": [
    "# Create arrays to document progress\n",
    "train_losses = []\n",
    "train_accuracies = []\n",
    "test_losses = []\n",
    "test_accuracies = []"
   ]
  },
  {
   "cell_type": "code",
   "execution_count": 11,
   "metadata": {},
   "outputs": [
    {
     "name": "stdout",
     "output_type": "stream",
     "text": [
      "Epoch 0 -> Train loss: 0.6644 Train acc: 58.69% Test acc: 62.75%\n",
      "Epoch 1 -> Train loss: 0.5708 Train acc: 70.33% Test acc: 66.17%\n",
      "Epoch 2 -> Train loss: 0.4855 Train acc: 76.38% Test acc: 66.83%\n",
      "Epoch 3 -> Train loss: 0.3903 Train acc: 82.38% Test acc: 66.50%\n",
      "Epoch 4 -> Train loss: 0.2595 Train acc: 89.81% Test acc: 67.67%\n",
      "Epoch 5 -> Train loss: 0.1574 Train acc: 94.25% Test acc: 67.08%\n",
      "Epoch 6 -> Train loss: 0.1041 Train acc: 96.46% Test acc: 66.00%\n",
      "Epoch 7 -> Train loss: 0.0657 Train acc: 97.73% Test acc: 65.67%\n",
      "Epoch 8 -> Train loss: 0.0371 Train acc: 98.85% Test acc: 65.08%\n",
      "Epoch 9 -> Train loss: 0.0303 Train acc: 99.17% Test acc: 65.75%\n",
      "Epoch 10 -> Train loss: 0.0405 Train acc: 98.58% Test acc: 67.67%\n",
      "Epoch 11 -> Train loss: 0.0261 Train acc: 99.12% Test acc: 66.42%\n",
      "Epoch 12 -> Train loss: 0.0290 Train acc: 99.02% Test acc: 67.50%\n",
      "Epoch 13 -> Train loss: 0.0209 Train acc: 99.31% Test acc: 67.33%\n",
      "Epoch 14 -> Train loss: 0.0159 Train acc: 99.56% Test acc: 65.92%\n",
      "Epoch 15 -> Train loss: 0.0164 Train acc: 99.40% Test acc: 66.58%\n",
      "Epoch 16 -> Train loss: 0.0156 Train acc: 99.50% Test acc: 67.67%\n",
      "Epoch 17 -> Train loss: 0.0177 Train acc: 99.40% Test acc: 66.92%\n",
      "Epoch 18 -> Train loss: 0.0222 Train acc: 99.23% Test acc: 67.00%\n",
      "Epoch 19 -> Train loss: 0.0139 Train acc: 99.62% Test acc: 67.08%\n"
     ]
    }
   ],
   "source": [
    "# Train and Evaluate the model\n",
    "for epoch in range(n_epoch):\n",
    "    train_loss, train_acc, test_loss, test_acc = train_model(model, optimizer, loss_function, train_loader_reddit, len(train_labels_reddit), test_loader_reddit, len(test_labels_reddit), epoch)\n",
    "    train_losses.append(train_loss)\n",
    "    train_accuracies.append(train_acc)\n",
    "    test_losses.append(test_loss)\n",
    "    test_accuracies.append(test_acc)"
   ]
  },
  {
   "cell_type": "code",
   "execution_count": 12,
   "metadata": {},
   "outputs": [],
   "source": [
    "# Save the model\n",
    "torch.save(model.state_dict(), model_save_path)"
   ]
  },
  {
   "cell_type": "code",
   "execution_count": 13,
   "metadata": {},
   "outputs": [
    {
     "data": {
      "image/png": "[encoded data removed]",
      "text/plain": [
       "<Figure size 720x432 with 1 Axes>"
      ]
     },
     "metadata": {
      "needs_background": "light"
     },
     "output_type": "display_data"
    },
    {
     "data": {
      "image/png": "[encoded data removed]",
      "text/plain": [
       "<Figure size 720x432 with 1 Axes>"
      ]
     },
     "metadata": {
      "needs_background": "light"
     },
     "output_type": "display_data"
    }
   ],
   "source": [
    "# Plot the results\n",
    "plot_loss(train_losses, \"Loss Plot\", \"Train Loss\", \"Loss\", loss_save_path)\n",
    "plot_accuracies(train_accuracies, test_accuracies, \"Accuracy Plot\", \"Train Acc\", \"Test Acc\", \"Accuracy\", acc_save_path)"
   ]
  },
  {
   "cell_type": "code",
   "execution_count": 14,
   "metadata": {},
   "outputs": [
    {
     "name": "stderr",
     "output_type": "stream",
     "text": [
      "2024-06-05 18:37:08.353185: I tensorflow/core/util/port.cc:110] oneDNN custom operations are on. You may see slightly different numerical results due to floating-point round-off errors from different computation orders. To turn them off, set the environment variable `TF_ENABLE_ONEDNN_OPTS=0`.\n",
      "2024-06-05 18:37:08.396448: I tensorflow/core/platform/cpu_feature_guard.cc:182] This TensorFlow binary is optimized to use available CPU instructions in performance-critical operations.\n",
      "To enable the following instructions: AVX2 AVX512F AVX512_VNNI FMA, in other operations, rebuild TensorFlow with the appropriate compiler flags.\n"
     ]
    }
   ],
   "source": [
    "# Get failed examples\n",
    "failed_examples = get_failed_examples(model, test_loader_reddit, tokenizer)\n",
    "save_failed_examples(failed_examples, failed_examples_save_path)"
   ]
  },
  {
   "cell_type": "code",
   "execution_count": null,
   "metadata": {},
   "outputs": [],
   "source": []
  }
 ],
 "metadata": {
  "kernelspec": {
   "display_name": "Python 3 (ipykernel)",
   "language": "python",
   "name": "python3"
  },
  "language_info": {
   "codemirror_mode": {
    "name": "ipython",
    "version": 3
   },
   "file_extension": ".py",
   "mimetype": "text/x-python",
   "name": "python",
   "nbconvert_exporter": "python",
   "pygments_lexer": "ipython3",
   "version": "3.9.5"
  }
 },
 "nbformat": 4,
 "nbformat_minor": 2
}
