{
 "cells": [
  {
   "cell_type": "code",
   "execution_count": 1,
   "metadata": {},
   "outputs": [],
   "source": [
    "import numpy as np\n",
    "import pandas as pd\n",
    "import transformers\n",
    "import torch\n",
    "from torch import nn\n",
    "from torch.utils.data import DataLoader\n",
    "from datasets import RedditDataset\n",
    "from model import SarcasmDetectionModel\n",
    "from util import train_model, plot_loss, plot_accuracies, get_failed_examples, save_failed_examples\n",
    "\n",
    "import warnings\n",
    "warnings.filterwarnings(\"ignore\")"
   ]
  },
  {
   "cell_type": "code",
   "execution_count": 2,
   "metadata": {},
   "outputs": [],
   "source": [
    "# Global Variables\n",
    "device = \"cuda\" if torch.cuda.is_available() else \"cpu\"\n",
    "reddit_dataset_dir = \"train-balanced-sarcasm.csv\"\n",
    "split_ratio = 0.8\n",
    "model_save_path = \"model.pth\"\n",
    "loss_save_path = \"losses.png\"\n",
    "acc_save_path = \"accuracies.png\"\n",
    "failed_examples_save_path = \"failed_examples.json\"\n",
    "seed = 25\n",
    "\n",
    "# Hyperparameters\n",
    "len_dataset = 6000\n",
    "batch_size = 32\n",
    "lr = 1e-5\n",
    "n_epoch = 20"
   ]
  },
  {
   "cell_type": "code",
   "execution_count": 3,
   "metadata": {},
   "outputs": [
    {
     "name": "stdout",
     "output_type": "stream",
     "text": [
      "Loading data...\n",
      "Instances of each sample in the entire dataset: label\n",
      "1    3000\n",
      "0    3000\n",
      "Name: count, dtype: int64\n"
     ]
    }
   ],
   "source": [
    "# Load the data and shuffle it\n",
    "print(\"Loading data...\")\n",
    "df = pd.read_csv(reddit_dataset_dir)\n",
    "# Sample 3000 rows from each class for the training dataset\n",
    "sarcasm_sample = df[df[\"label\"] == 1].sample(n=len_dataset//2, random_state=seed)\n",
    "regular_sample = df[df[\"label\"] == 0].sample(n=len_dataset//2, random_state=seed)\n",
    "# Combine the sampled training data\n",
    "reddit_dataset = pd.concat([sarcasm_sample, regular_sample])\n",
    "print(f\"Instances of each sample in the entire dataset: {reddit_dataset['label'].value_counts()}\")"
   ]
  },
  {
   "cell_type": "code",
   "execution_count": 4,
   "metadata": {},
   "outputs": [],
   "source": [
    "reddit_dataset[\"context_comment\"] = reddit_dataset.apply(lambda row: f\"Context: {row['parent_comment']}; Comment: {row['comment']}\", axis=1)\n",
    "reddit_dataset[\"subreddit_comment\"] = reddit_dataset.apply(lambda row: f\"Subreddit: {row['subreddit']}; Comment: {row['comment']}\", axis=1)\n",
    "reddit_dataset[\"context_subreddit_comment\"] = reddit_dataset.apply(lambda row: f\"Context: {row['parent_comment']}; Subreddit: {row['subreddit']}; Comment: {row['comment']}\", axis=1)\n",
    "reddit_dataset = reddit_dataset.sample(frac=1, random_state=seed).reset_index(drop=True)"
   ]
  },
  {
   "cell_type": "code",
   "execution_count": 5,
   "metadata": {},
   "outputs": [],
   "source": [
    "# Load the pre-trained BERT model\n",
    "model_class, tokenizer_class, pretrained_weights = (transformers.BertModel, transformers.BertTokenizer, \"bert-base-uncased\")\n",
    "# model_class, tokenizer_class, pretrained_weights = (transformers.DistilBertModel, transformers.DistilBertTokenizer, \"distilbert-base-uncased\")\n",
    "\n",
    "tokenizer = tokenizer_class.from_pretrained(pretrained_weights)\n",
    "bert_model = model_class.from_pretrained(pretrained_weights)"
   ]
  },
  {
   "cell_type": "markdown",
   "metadata": {},
   "source": [
    "# Part 1 - Comment only"
   ]
  },
  {
   "cell_type": "code",
   "execution_count": 6,
   "metadata": {},
   "outputs": [
    {
     "name": "stdout",
     "output_type": "stream",
     "text": [
      "Shape of the padded dataset: (6000, 191)\n"
     ]
    }
   ],
   "source": [
    "# Tokenize the dataset\n",
    "tokenized_dataset_reddit = reddit_dataset[\"comment\"].apply((lambda x: tokenizer.encode(x, add_special_tokens=True)))\n",
    "\n",
    "# Padding to match the shapes of all the input data\n",
    "max_len = 0\n",
    "for i in tokenized_dataset_reddit.values:\n",
    "    if len(i) > max_len:\n",
    "        max_len = len(i)\n",
    "\n",
    "padded_dataset_reddit = np.array([i + [0]*(max_len-len(i)) for i in tokenized_dataset_reddit.values])\n",
    "print(f\"Shape of the padded dataset: {np.array(padded_dataset_reddit).shape}\")"
   ]
  },
  {
   "cell_type": "code",
   "execution_count": 7,
   "metadata": {},
   "outputs": [
    {
     "name": "stdout",
     "output_type": "stream",
     "text": [
      "Shape of the masked dataset: (6000, 191)\n"
     ]
    }
   ],
   "source": [
    "# Add a mask so that the model doesn't consider padded tokens\n",
    "attention_mask_reddit = np.where(padded_dataset_reddit != 0, 1, 0)\n",
    "print(f\"Shape of the masked dataset: {attention_mask_reddit.shape}\")"
   ]
  },
  {
   "cell_type": "code",
   "execution_count": 8,
   "metadata": {},
   "outputs": [
    {
     "name": "stdout",
     "output_type": "stream",
     "text": [
      "Splitting the data -> Train (4800) & Test (1200)\n",
      "Instances of each sample in the train set: label\n",
      "1    2413\n",
      "0    2387\n",
      "Name: count, dtype: int64\n",
      "Instances of each sample in the test set: label\n",
      "0    613\n",
      "1    587\n",
      "Name: count, dtype: int64\n"
     ]
    }
   ],
   "source": [
    "# Split the data in training and testing sets and create dataloaders\n",
    "split_val = int(split_ratio*len_dataset)\n",
    "print(f\"Splitting the data -> Train ({split_val}) & Test ({len_dataset-split_val})\")\n",
    "\n",
    "train_features_reddit = torch.tensor(padded_dataset_reddit[:split_val], device=device).long()\n",
    "train_mask_reddit = torch.tensor(attention_mask_reddit[:split_val], device=device).long()\n",
    "train_labels_reddit = torch.tensor(reddit_dataset[\"label\"].values[:split_val], device=device).long()\n",
    "train_dataset_reddit = RedditDataset(train_features_reddit, train_mask_reddit, train_labels_reddit)\n",
    "train_loader_reddit = DataLoader(train_dataset_reddit, batch_size=batch_size, shuffle=True)\n",
    "\n",
    "test_features_reddit = torch.tensor(padded_dataset_reddit[split_val:], device=device).long()\n",
    "test_mask_reddit = torch.tensor(attention_mask_reddit[split_val:], device=device).long()\n",
    "test_labels_reddit = torch.tensor(reddit_dataset[\"label\"].values[split_val:], device=device).long()\n",
    "test_dataset_reddit = RedditDataset(test_features_reddit, test_mask_reddit, test_labels_reddit)\n",
    "test_loader_reddit = DataLoader(test_dataset_reddit, batch_size=batch_size)\n",
    "\n",
    "print(f\"Instances of each sample in the train set: {reddit_dataset[:split_val]['label'].value_counts()}\")\n",
    "print(f\"Instances of each sample in the test set: {reddit_dataset[split_val:]['label'].value_counts()}\")"
   ]
  },
  {
   "cell_type": "code",
   "execution_count": 9,
   "metadata": {},
   "outputs": [],
   "source": [
    "# Define the model, optimizer and the loss function\n",
    "model = SarcasmDetectionModel(bert_model).to(device)\n",
    "optimizer = torch.optim.AdamW(model.parameters(), lr=lr)\n",
    "loss_function = nn.CrossEntropyLoss()"
   ]
  },
  {
   "cell_type": "code",
   "execution_count": 10,
   "metadata": {},
   "outputs": [],
   "source": [
    "# Create arrays to document progress\n",
    "train_losses = []\n",
    "train_accuracies = []\n",
    "test_losses = []\n",
    "test_accuracies = []"
   ]
  },
  {
   "cell_type": "code",
   "execution_count": 11,
   "metadata": {},
   "outputs": [
    {
     "name": "stdout",
     "output_type": "stream",
     "text": [
      "Epoch 0 -> Train loss: 0.6971 Train acc: 53.56% Test acc: 60.17%\n",
      "Epoch 1 -> Train loss: 0.6529 Train acc: 61.17% Test acc: 61.92%\n",
      "Epoch 2 -> Train loss: 0.6126 Train acc: 66.06% Test acc: 64.17%\n",
      "Epoch 3 -> Train loss: 0.5779 Train acc: 70.29% Test acc: 66.08%\n",
      "Epoch 4 -> Train loss: 0.5442 Train acc: 71.92% Test acc: 65.58%\n",
      "Epoch 5 -> Train loss: 0.5121 Train acc: 74.96% Test acc: 66.50%\n",
      "Epoch 6 -> Train loss: 0.4756 Train acc: 76.92% Test acc: 66.75%\n",
      "Epoch 7 -> Train loss: 0.4416 Train acc: 79.21% Test acc: 66.33%\n",
      "Epoch 8 -> Train loss: 0.4017 Train acc: 82.29% Test acc: 67.08%\n",
      "Epoch 9 -> Train loss: 0.3534 Train acc: 85.08% Test acc: 65.50%\n",
      "Epoch 10 -> Train loss: 0.3211 Train acc: 86.44% Test acc: 65.67%\n",
      "Epoch 11 -> Train loss: 0.2723 Train acc: 88.94% Test acc: 65.33%\n",
      "Epoch 12 -> Train loss: 0.2334 Train acc: 91.15% Test acc: 65.42%\n",
      "Epoch 13 -> Train loss: 0.1930 Train acc: 92.85% Test acc: 66.33%\n",
      "Epoch 14 -> Train loss: 0.1547 Train acc: 94.75% Test acc: 65.67%\n",
      "Epoch 15 -> Train loss: 0.1230 Train acc: 95.54% Test acc: 65.67%\n",
      "Epoch 16 -> Train loss: 0.1068 Train acc: 96.31% Test acc: 63.92%\n",
      "Epoch 17 -> Train loss: 0.0825 Train acc: 97.31% Test acc: 64.75%\n",
      "Epoch 18 -> Train loss: 0.0717 Train acc: 97.67% Test acc: 66.33%\n",
      "Epoch 19 -> Train loss: 0.0628 Train acc: 97.81% Test acc: 65.00%\n"
     ]
    }
   ],
   "source": [
    "# Train and Evaluate the model\n",
    "for epoch in range(n_epoch):\n",
    "    train_loss, train_acc, test_loss, test_acc = train_model(model, optimizer, loss_function, train_loader_reddit, len(train_labels_reddit), test_loader_reddit, len(test_labels_reddit), epoch)\n",
    "    train_losses.append(train_loss)\n",
    "    train_accuracies.append(train_acc)\n",
    "    test_losses.append(test_loss)\n",
    "    test_accuracies.append(test_acc)"
   ]
  },
  {
   "cell_type": "code",
   "execution_count": 12,
   "metadata": {},
   "outputs": [],
   "source": [
    "# Save the model\n",
    "torch.save(model.state_dict(), model_save_path)"
   ]
  },
  {
   "cell_type": "code",
   "execution_count": 13,
   "metadata": {},
   "outputs": [
    {
     "data": {
      "image/png": "[encoded data removed]",
      "text/plain": [
       "<Figure size 720x432 with 1 Axes>"
      ]
     },
     "metadata": {
      "needs_background": "light"
     },
     "output_type": "display_data"
    },
    {
     "data": {
      "image/png": "[encoded data removed]",
      "text/plain": [
       "<Figure size 720x432 with 1 Axes>"
      ]
     },
     "metadata": {
      "needs_background": "light"
     },
     "output_type": "display_data"
    }
   ],
   "source": [
    "# Plot the results\n",
    "plot_loss(train_losses, \"Loss Plot\", \"Train Loss\", \"Loss\", loss_save_path)\n",
    "plot_accuracies(train_accuracies, test_accuracies, \"Accuracy Plot\", \"Train Acc\", \"Test Acc\", \"Accuracy\", acc_save_path)"
   ]
  },
  {
   "cell_type": "code",
   "execution_count": 14,
   "metadata": {},
   "outputs": [
    {
     "name": "stderr",
     "output_type": "stream",
     "text": [
      "2024-06-05 08:16:48.305998: I tensorflow/core/platform/cpu_feature_guard.cc:182] This TensorFlow binary is optimized to use available CPU instructions in performance-critical operations.\n",
      "To enable the following instructions: AVX2 FMA, in other operations, rebuild TensorFlow with the appropriate compiler flags.\n"
     ]
    }
   ],
   "source": [
    "# Get failed examples\n",
    "failed_examples = get_failed_examples(model, test_loader_reddit, tokenizer)\n",
    "save_failed_examples(failed_examples, failed_examples_save_path)"
   ]
  },
  {
   "cell_type": "code",
   "execution_count": null,
   "metadata": {},
   "outputs": [],
   "source": []
  }
 ],
 "metadata": {
  "kernelspec": {
   "display_name": "Python 3 (ipykernel)",
   "language": "python",
   "name": "python3"
  },
  "language_info": {
   "codemirror_mode": {
    "name": "ipython",
    "version": 3
   },
   "file_extension": ".py",
   "mimetype": "text/x-python",
   "name": "python",
   "nbconvert_exporter": "python",
   "pygments_lexer": "ipython3",
   "version": "3.9.5"
  }
 },
 "nbformat": 4,
 "nbformat_minor": 2
}
