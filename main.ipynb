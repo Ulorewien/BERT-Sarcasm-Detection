{
 "cells": [
  {
   "cell_type": "code",
   "execution_count": 1,
   "metadata": {},
   "outputs": [],
   "source": [
    "import numpy as np\n",
    "import pandas as pd\n",
    "import transformers\n",
    "import torch\n",
    "from torch import nn\n",
    "from torch.utils.data import DataLoader\n",
    "from datasets import NewsHeadlinesDataset\n",
    "from model import SarcasmDetectionModel\n",
    "from util import train_model, plot_loss, plot_accuracies, get_failed_examples"
   ]
  },
  {
   "cell_type": "code",
   "execution_count": 2,
   "metadata": {},
   "outputs": [],
   "source": [
    "# Global Variables\n",
    "device = \"cuda\" if torch.cuda.is_available() else \"cpu\"\n",
    "news_dataset_dir = \"Sarcasm_Headlines_Dataset_v2.json\"\n",
    "split_ratio = 0.8\n",
    "model_save_path = \"second_run.pth\"\n",
    "loss_save_path = \"losses.png\"\n",
    "acc_save_path = \"accuracies.png\"\n",
    "\n",
    "# Hyperparameters\n",
    "len_dataset = 6000\n",
    "batch_size = 64\n",
    "lr = 3e-6\n",
    "n_epoch = 20"
   ]
  },
  {
   "cell_type": "code",
   "execution_count": 3,
   "metadata": {},
   "outputs": [
    {
     "name": "stdout",
     "output_type": "stream",
     "text": [
      "Loading data...\n",
      "Instances of each sample in the entire dataset: is_sarcastic\n",
      "0    3096\n",
      "1    2904\n",
      "Name: count, dtype: int64\n"
     ]
    }
   ],
   "source": [
    "# Load the data and shuffle it\n",
    "print(\"Loading data...\")\n",
    "news_dataset = pd.read_json(news_dataset_dir, lines=True)\n",
    "news_dataset = news_dataset[:len_dataset]\n",
    "news_dataset = news_dataset.sample(frac=1).reset_index(drop=True)\n",
    "print(f\"Instances of each sample in the entire dataset: {news_dataset['is_sarcastic'].value_counts()}\")"
   ]
  },
  {
   "cell_type": "code",
   "execution_count": 4,
   "metadata": {},
   "outputs": [],
   "source": [
    "# Load the pre-trained BERT model\n",
    "model_class, tokenizer_class, pretrained_weights = (transformers.BertModel, transformers.BertTokenizer, \"bert-base-uncased\")\n",
    "# model_class, tokenizer_class, pretrained_weights = (transformers.DistilBertModel, transformers.DistilBertTokenizer, \"distilbert-base-uncased\")\n",
    "\n",
    "tokenizer = tokenizer_class.from_pretrained(pretrained_weights)\n",
    "bert_model = model_class.from_pretrained(pretrained_weights)"
   ]
  },
  {
   "cell_type": "code",
   "execution_count": 5,
   "metadata": {},
   "outputs": [
    {
     "name": "stdout",
     "output_type": "stream",
     "text": [
      "Shape of the padded dataset: (6000, 56)\n"
     ]
    }
   ],
   "source": [
    "# Tokenize the dataset\n",
    "tokenized_dataset_news = news_dataset[\"headline\"].apply((lambda x: tokenizer.encode(x, add_special_tokens=True)))\n",
    "\n",
    "# Padding to match the shapes of all the input data\n",
    "max_len = 0\n",
    "for i in tokenized_dataset_news.values:\n",
    "    if len(i) > max_len:\n",
    "        max_len = len(i)\n",
    "\n",
    "padded_dataset_news = np.array([i + [0]*(max_len-len(i)) for i in tokenized_dataset_news.values])\n",
    "print(f\"Shape of the padded dataset: {np.array(padded_dataset_news).shape}\")"
   ]
  },
  {
   "cell_type": "code",
   "execution_count": 6,
   "metadata": {},
   "outputs": [
    {
     "name": "stdout",
     "output_type": "stream",
     "text": [
      "Shape of the masked dataset: (6000, 56)\n"
     ]
    }
   ],
   "source": [
    "# Add a mask so that the model doesn't consider padded tokens\n",
    "attention_mask_news = np.where(padded_dataset_news != 0, 1, 0)\n",
    "print(f\"Shape of the masked dataset: {attention_mask_news.shape}\")"
   ]
  },
  {
   "cell_type": "code",
   "execution_count": 7,
   "metadata": {},
   "outputs": [
    {
     "name": "stdout",
     "output_type": "stream",
     "text": [
      "Splitting the data -> Train (4800) & Test (1200)\n",
      "Instances of each sample in the train set: is_sarcastic\n",
      "0    2489\n",
      "1    2311\n",
      "Name: count, dtype: int64\n",
      "Instances of each sample in the test set: is_sarcastic\n",
      "0    607\n",
      "1    593\n",
      "Name: count, dtype: int64\n"
     ]
    }
   ],
   "source": [
    "# Split the data in training and testing sets and create dataloaders\n",
    "split_val = int(split_ratio*len_dataset)\n",
    "print(f\"Splitting the data -> Train ({split_val}) & Test ({len_dataset-split_val})\")\n",
    "\n",
    "train_features_news = torch.tensor(padded_dataset_news[:split_val], device=device).long()\n",
    "train_mask_news = torch.tensor(attention_mask_news[:split_val], device=device).long()\n",
    "train_labels_news = torch.tensor(news_dataset[\"is_sarcastic\"].values[:split_val], device=device).long()\n",
    "train_dataset_news = NewsHeadlinesDataset(train_features_news, train_mask_news, train_labels_news)\n",
    "train_loader_news = DataLoader(train_dataset_news, batch_size=batch_size, shuffle=True)\n",
    "\n",
    "test_features_news = torch.tensor(padded_dataset_news[split_val:], device=device).long()\n",
    "test_mask_news = torch.tensor(attention_mask_news[split_val:], device=device).long()\n",
    "test_labels_news = torch.tensor(news_dataset[\"is_sarcastic\"].values[split_val:], device=device).long()\n",
    "test_dataset_news = NewsHeadlinesDataset(test_features_news, test_mask_news, test_labels_news)\n",
    "test_loader_news = DataLoader(test_dataset_news, batch_size=batch_size)\n",
    "\n",
    "print(f\"Instances of each sample in the train set: {news_dataset[:split_val]['is_sarcastic'].value_counts()}\")\n",
    "print(f\"Instances of each sample in the test set: {news_dataset[split_val:]['is_sarcastic'].value_counts()}\")"
   ]
  },
  {
   "cell_type": "code",
   "execution_count": 8,
   "metadata": {},
   "outputs": [],
   "source": [
    "# Define the model, optimizer and the loss function\n",
    "model = SarcasmDetectionModel(bert_model).to(device)\n",
    "optimizer = torch.optim.AdamW(model.parameters(), lr=lr)\n",
    "loss_function = nn.CrossEntropyLoss()"
   ]
  },
  {
   "cell_type": "code",
   "execution_count": 9,
   "metadata": {},
   "outputs": [],
   "source": [
    "# Create arrays to document progress\n",
    "train_losses = []\n",
    "train_accuracies = []\n",
    "test_losses = []\n",
    "test_accuracies = []"
   ]
  },
  {
   "cell_type": "code",
   "execution_count": 10,
   "metadata": {},
   "outputs": [
    {
     "name": "stdout",
     "output_type": "stream",
     "text": [
      "Epoch 0 -> Train loss: 0.6184 Train acc: 65.85% Test acc: 80.00%\n",
      "Epoch 1 -> Train loss: 0.4496 Train acc: 81.33% Test acc: 80.92%\n",
      "Epoch 2 -> Train loss: 0.3597 Train acc: 85.35% Test acc: 83.25%\n",
      "Epoch 3 -> Train loss: 0.3008 Train acc: 87.96% Test acc: 86.00%\n",
      "Epoch 4 -> Train loss: 0.2626 Train acc: 90.15% Test acc: 87.50%\n",
      "Epoch 5 -> Train loss: 0.2138 Train acc: 91.90% Test acc: 87.83%\n",
      "Epoch 6 -> Train loss: 0.1810 Train acc: 93.50% Test acc: 87.67%\n",
      "Epoch 7 -> Train loss: 0.1527 Train acc: 94.38% Test acc: 88.25%\n",
      "Epoch 8 -> Train loss: 0.1247 Train acc: 95.60% Test acc: 87.42%\n",
      "Epoch 9 -> Train loss: 0.1025 Train acc: 96.62% Test acc: 88.33%\n",
      "Epoch 10 -> Train loss: 0.0838 Train acc: 97.38% Test acc: 88.58%\n",
      "Epoch 11 -> Train loss: 0.0684 Train acc: 97.90% Test acc: 87.92%\n",
      "Epoch 12 -> Train loss: 0.0583 Train acc: 98.23% Test acc: 88.08%\n",
      "Epoch 13 -> Train loss: 0.0539 Train acc: 98.29% Test acc: 88.25%\n",
      "Epoch 14 -> Train loss: 0.0437 Train acc: 98.75% Test acc: 87.25%\n",
      "Epoch 15 -> Train loss: 0.0348 Train acc: 99.04% Test acc: 88.58%\n",
      "Epoch 16 -> Train loss: 0.0336 Train acc: 98.98% Test acc: 88.83%\n",
      "Epoch 17 -> Train loss: 0.0313 Train acc: 99.06% Test acc: 88.67%\n",
      "Epoch 18 -> Train loss: 0.0315 Train acc: 99.04% Test acc: 88.67%\n",
      "Epoch 19 -> Train loss: 0.0248 Train acc: 99.19% Test acc: 89.08%\n"
     ]
    }
   ],
   "source": [
    "# Train and Evaluate the model\n",
    "for epoch in range(n_epoch):\n",
    "    train_loss, train_acc, test_loss, test_acc = train_model(model, optimizer, loss_function, train_loader_news, len(train_labels_news), test_loader_news, len(test_labels_news), epoch)\n",
    "    train_losses.append(train_loss)\n",
    "    train_accuracies.append(train_acc)\n",
    "    test_losses.append(test_loss)\n",
    "    test_accuracies.append(test_acc)"
   ]
  },
  {
   "cell_type": "code",
   "execution_count": 11,
   "metadata": {},
   "outputs": [],
   "source": [
    "# Save the model\n",
    "torch.save(model.state_dict(), model_save_path)"
   ]
  },
  {
   "cell_type": "code",
   "execution_count": 12,
   "metadata": {},
   "outputs": [
    {
     "data": {
      "image/png": "[encoded data removed]",
      "text/plain": [
       "<Figure size 720x432 with 1 Axes>"
      ]
     },
     "metadata": {
      "needs_background": "light"
     },
     "output_type": "display_data"
    },
    {
     "data": {
      "image/png": "[encoded data removed]",
      "text/plain": [
       "<Figure size 720x432 with 1 Axes>"
      ]
     },
     "metadata": {
      "needs_background": "light"
     },
     "output_type": "display_data"
    }
   ],
   "source": [
    "# Plot the results\n",
    "plot_loss(train_losses, \"Loss Plot\", \"Train Loss\", \"Loss\", loss_save_path)\n",
    "plot_accuracies(train_accuracies, test_accuracies, \"Accuracy Plot\", \"Train Acc\", \"Test Acc\", \"Accuracy\", acc_save_path)"
   ]
  },
  {
   "cell_type": "code",
   "execution_count": 13,
   "metadata": {},
   "outputs": [
    {
     "name": "stderr",
     "output_type": "stream",
     "text": [
      "2024-06-04 02:49:07.387703: I tensorflow/core/util/port.cc:110] oneDNN custom operations are on. You may see slightly different numerical results due to floating-point round-off errors from different computation orders. To turn them off, set the environment variable `TF_ENABLE_ONEDNN_OPTS=0`.\n",
      "2024-06-04 02:49:07.437763: I tensorflow/core/platform/cpu_feature_guard.cc:182] This TensorFlow binary is optimized to use available CPU instructions in performance-critical operations.\n",
      "To enable the following instructions: AVX2 AVX512F AVX512_VNNI FMA, in other operations, rebuild TensorFlow with the appropriate compiler flags.\n"
     ]
    }
   ],
   "source": [
    "# Get failed examples\n",
    "failed_examples = get_failed_examples(model, test_loader_news, tokenizer)"
   ]
  },
  {
   "cell_type": "code",
   "execution_count": 14,
   "metadata": {},
   "outputs": [
    {
     "name": "stdout",
     "output_type": "stream",
     "text": [
      "football - loving americans harassed for wearing turbans to nfl game 0 1\n",
      "get clarity on what the future holds so you can go back to worrying about costume ideas. 1 0\n",
      "mark sanford's fiancee found out about split from facebook post 0 1\n",
      "pillsbury doughboy's image sexed up 1 0\n",
      "justin timberlake tells jessica biel no one will believe her 1 0\n",
      "olympics commentator explains'they all look the same'remark about chinese skiers 0 1\n",
      "scottish leader demands new referendum on independence 0 1\n",
      "caitlyn jenner on bathing suits :'don't know if i'm ready to expose myself ' 0 1\n",
      "ed mcmahon endorses another depressing product 1 0\n",
      "bush surges ahead in polls after strong showing on pommel horse 1 0\n",
      "proud son posts pic of folks who graduated college after addiction 0 1\n",
      "feeling the heat in alabama's senate race, luther strange calls for filibuster change 0 1\n",
      "dismembered nate silver found in dumpster behind gallup headquarters 1 0\n",
      "scientists identify possible cause of huge ice shelf collapse 0 1\n",
      "only two segways in town collide 1 0\n",
      "unemployed prince harry, meghan markle announce plans to give baby up for adoption 1 0\n",
      "5 types of annoying people to avoid at all costs 0 1\n",
      "trump thanks united nations for inviting him to their country 1 0\n",
      "librarian who amassed millions by living humbly leaves entire fortune to college 0 1\n",
      "women's prison riot feels gratuitous 1 0\n",
      "trump regrets choosing kavanaugh after supreme court nominee keeps talking about how much he respects women 1 0\n",
      "25 worst original names of famous bands 0 1\n",
      "seattle's space needle blasts off after collecting enough rain for home planet 1 0\n",
      "andrew cuomo creates special unit to investigate post - election surge in hate crimes 0 1\n",
      "dad actually yelled at that guy 1 0\n",
      "this great song, bar sources report 1 0\n",
      "security camera films meteor streaking across ohio sky 0 1\n",
      "dog who successfully detected cancer in owner put down for practicing medicine without a license 1 0\n",
      "alabama cracks down on abortions by outlawing all medical procedures 1 0\n",
      "report : states quietly raising speed limits near failing schools 1 0\n",
      "rain - soaked robert mueller lets manafort surf one final monster wave before bringing him in 1 0\n",
      "millions across country celebrate'make a kid at work'day 1 0\n",
      "ted cruz names this fuckin'lady — remember her? — as vp pick 1 0\n",
      "household death toll climbs to one 1 0\n",
      "sudden cardiac arrest more likely in african - americans, new study says 0 1\n",
      "law schools now require applicants to honestly state whether they want to go to law school 1 0\n",
      "study reveals that girls who play princess grow up with skewed perceptions of the role of modern monarchy in a democratic society 1 0\n",
      "gop senator sorry for joking about mammograms, but still won't cover them 0 1\n",
      "u. s. kids fail at physical activity 0 1\n",
      "kidnapped journalist forced to explain to isis captors what buzzfeed news is 1 0\n",
      "pope visits one of italy's most dangerous areas 0 1\n",
      "obama's foreign policy approval drops in new poll 0 1\n",
      "spelling bee champion returns to school a hero, he imagines 1 0\n",
      "some of amazon's suitors have been burned before 0 1\n",
      "republicans condemn akin's comments as blemish on party's otherwise spotless women's rights record 1 0\n",
      "this obviously aliens'first abduction 1 0\n",
      "samsung slashes profit forecast after pulling plug on note 7 smartphone 0 1\n",
      "chrissy teigen slams idea she's promoting eating disorders with doritos licking 0 1\n",
      "horseconnect, the social network for horses, bought for $ 1 billion 1 0\n",
      "airasia passengers share stories of near - misses that kept them off vanished plane 0 1\n",
      "guy in rome does as the tourists do 1 0\n",
      "creepy weirdo still stalking you on facebook 1 0\n",
      "lives of mitch mcconnell, john boehner, eric cantor retain meaning 1 0\n",
      "watching thousands march in his honor unlocks deeper, darker corner of trump's psyche 1 0\n",
      "kfc, midas team up for much - anticipated crossover meal 1 0\n",
      "single - parent families get'a'rating, from drug kingpin 1 0\n",
      "' draft biden'effort debuts its first tv ad 0 1\n",
      "savion glover taps his way out of another speeding ticket 1 0\n",
      "france's far - right national front unveils new name with pro - nazi past 0 1\n",
      "that guy from that one show spotted with the girl from the shampoo ad 1 0\n",
      "obama chides darrell issa for touting alliance with him in re - election fight 0 1\n",
      "new hampshire returns to obscurity 1 0\n",
      "creationism banned from uk schools 0 1\n",
      "aliens in avocado super bowl ad think we're a bunch of dips 0 1\n",
      "federal reserve accidentally leaks secret documents 0 1\n",
      "chris farley has hilarious cardiac arrest 1 0\n",
      "pilot was locked out of cockpit before alps crash 0 1\n",
      "margaret atwood :'the handmaids are supposed to be aliens ' 1 0\n",
      "95 killed in rush for free flames in nigerian tanker fire 1 0\n",
      "warren buffett can't believe he has to live next to powerball winner 1 0\n",
      "watch : need to feel bad? 0 1\n",
      "new ad preys on people with'ideas ' 1 0\n",
      "brett kavanaugh reiterates cruel and unusual punishment what makes someone a true kappa 1 0\n",
      "de blasio courts iowa voters by winning'largest candidate'at polk county fair 1 0\n",
      "mccain campaign nabs top obama pun writer 1 0\n",
      "pope wraps up south american tour with visit to banado norte slum 0 1\n",
      "study finds mass extinction could free up billions of dollars in conservation funding by 2024 1 0\n",
      "freddie prinze jr. recovers 0 1\n",
      "new study reveals nothing pfizer's lawyers can't take care of 1 0\n",
      "weekly roundup of ebay vintage home finds 0 1\n",
      "national park service studies historic lgbtq sites for possible recognition 0 1\n",
      "mark zuckerberg promises that misuse of facebook user data will happen again and again 1 0\n",
      "more cats made 1 0\n",
      "obama administration takes deportation relief for millions to supreme court 0 1\n",
      "authorities praise twitter users'rapid response to virginia shooting 1 0\n",
      "joy behar publicly apologizes for disparaging mike pence's christian faith 0 1\n",
      "wamu files for chaplev 1 0\n",
      "kerry takes frustration out on lobster 1 0\n",
      "overstock. com announces plans to develop original programming 1 0\n",
      "critics blast al gore's documentary as'realistic ' 1 0\n",
      "obama under fire for playing t - ball during vietnam 1 0\n",
      "mtv executive grounds son for recommending good charlotte 1 0\n",
      "colorado legalizes medicinal fireworks 1 0\n",
      "trump invites supporter, bbc cameraman to finish altercation at white house 1 0\n",
      "our nation's celebrities : what are they wearing? 1 0\n",
      "hip, laid - back doctor refers to influenza as'the flu ' 1 0\n",
      "angolan war criminal called in as character witness to manafort fraud trial 1 0\n",
      "strangely compelling'shybot'roams california desert avoiding humans 0 1\n",
      "skydivers perfectly land slip'n slide from 5, 000 feet 0 1\n",
      "entertainment tonight host'can't wait'to see new paramount pictures release 1 0\n",
      "fall of inversions 0 1\n",
      "breaking : thriller writer jeffery deaver at top of his game 1 0\n",
      "americans say 2 - to - 1 that we never should have invaded iraq 0 1\n",
      "south sudan marks 6 years of independence as 6 million go hungry 0 1\n",
      "new google project delivers critical info to refugees'smartphones 0 1\n",
      "viral facebook post reminds dudes not every woman wants to talk to them 0 1\n",
      "drag and burlesque performers outraged with facebook 0 1\n",
      "mom can't wait for halloween episode of'the big bang theory ' 1 0\n",
      "bill cosby defamation suit adds four more women 0 1\n",
      "key republican puts dagger in push to end filibusters 0 1\n",
      "' meow - nisota'all ears for internet cat video festival 0 1\n",
      "native american boy pulled from class over mohawk hairstyle 0 1\n",
      "john roberts delivers finishing blow to stephen breyer to defend title of chief justice 1 0\n",
      "facebook :'identifying hate speech is difficult because some posts actually make pretty interesting points ' 1 0\n",
      "determined cat goes through a lot to wrestle with stuffed tiger 0 1\n",
      "clinton questions obama's ability to greet world leaders 1 0\n",
      "newlywed couple crash cars into each other in fatal accident 0 1\n",
      "philadelphia goes way overboard on 9 / 11 security for liberty bell 1 0\n",
      "kite flyer in the zone 1 0\n",
      "shit, no way stadium staff throwing t - shirts can reach you 1 0\n",
      "residents say racism accusations don't tell full story of cops who quit after town elected its first black mayor 0 1\n",
      "suspect reportedly arrested over explosives sent to washington, d. c. area 0 1\n",
      "city offers free pot for the poor 0 1\n",
      "powerball ticket sold with all winning numbers in $ 421 million jackpot 0 1\n",
      "' elle'magazine accidentally airbrushes naomi watts out of cover altogether 1 0\n",
      "senate committee links child poverty to lack of child jobs 1 0\n",
      "white house warns syria against launching another chemical weapons attack 0 1\n",
      "man allegedly brandishes gun, yells'all of you should die'to muslim couple 0 1\n",
      "pfizer death penalty drug decision greeted by activists – but states fight on 0 1\n",
      "gop makes good on 2009 promise to block president's healthcare bill 1 0\n",
      "sad 38 - year - old googles'jobs caring for baby animals ' 1 0\n"
     ]
    }
   ],
   "source": [
    "# Print decoded sentences\n",
    "for example in failed_examples:\n",
    "    print(example[\"decoded_sentence\"], example[\"label\"], example[\"prediction\"])"
   ]
  },
  {
   "cell_type": "code",
   "execution_count": null,
   "metadata": {},
   "outputs": [],
   "source": []
  }
 ],
 "metadata": {
  "kernelspec": {
   "display_name": "Python 3 (ipykernel)",
   "language": "python",
   "name": "python3"
  },
  "language_info": {
   "codemirror_mode": {
    "name": "ipython",
    "version": 3
   },
   "file_extension": ".py",
   "mimetype": "text/x-python",
   "name": "python",
   "nbconvert_exporter": "python",
   "pygments_lexer": "ipython3",
   "version": "3.9.5"
  }
 },
 "nbformat": 4,
 "nbformat_minor": 2
}
